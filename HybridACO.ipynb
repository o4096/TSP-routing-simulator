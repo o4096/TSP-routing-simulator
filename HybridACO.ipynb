{
 "cells": [
  {
   "cell_type": "code",
   "execution_count": 26,
   "id": "ba178470",
   "metadata": {},
   "outputs": [],
   "source": [
    "import numpy as np\n",
    "import matplotlib.pyplot as plt\n",
    "import random"
   ]
  },
  {
   "cell_type": "code",
   "execution_count": 27,
   "id": "8294c04f",
   "metadata": {},
   "outputs": [],
   "source": [
    "class City:\n",
    "    def __init__(self, x, y):\n",
    "        self.x = x\n",
    "        self.y = y\n",
    "    def distance(self, other):\n",
    "        return np.sqrt((self.x - other.x) ** 2 + (self.y - other.y) ** 2)"
   ]
  },
  {
   "cell_type": "code",
   "execution_count": 28,
   "id": "1fd7b331",
   "metadata": {},
   "outputs": [],
   "source": [
    "class Ant:\n",
    "    def __init__(self, num_cities):\n",
    "        self.num_cities = num_cities\n",
    "        self.tour = []\n",
    "        self.distance_traveled = 0\n",
    "    def clear(self):\n",
    "        self.tour = []\n",
    "        self.distance_traveled = 0\n",
    "\n",
    "    def build_tour(self, phermone, cities, alpha=1 ,beta=1):\n",
    "        self.clear()\n",
    "        num_cities = self.num_cities\n",
    "        unvisited = list(range(num_cities))\n",
    "        current_city = np.random.choice(unvisited)\n",
    "        self.tour.append(current_city)\n",
    "        unvisited.remove(current_city)\n",
    "\n",
    "        while unvisited:\n",
    "            probababilities = []\n",
    "            for next_city in unvisited:\n",
    "                tau = phermone[current_city][next_city] ** alpha\n",
    "                eta = (1 / cities[current_city].distance(cities[next_city])) ** beta\n",
    "                probababilities.append(tau * eta)\n",
    "\n",
    "            probababilities = np.array(probababilities)\n",
    "            probababilities /= np.sum(probababilities)\n",
    "            next_city = np.random.choice(unvisited, p=probababilities)\n",
    "            self.tour.append(next_city)\n",
    "            unvisited.remove(next_city)\n",
    "            current_city = next_city\n",
    "        self.tour.append(self.tour[0])\n",
    "\n",
    "        self.total_distance = 0\n",
    "        for i in range(len(self.tour) - 1):\n",
    "            self.total_distance += cities[self.tour[i]].distance(cities[self.tour[i + 1]])"
   ]
  },
  {
   "cell_type": "code",
   "execution_count": 29,
   "id": "686895a0",
   "metadata": {},
   "outputs": [],
   "source": [
    "def initialize_pheromone(num_cities, initial_pheromone):\n",
    "    return np.ones((num_cities, num_cities)) * initial_pheromone"
   ]
  },
  {
   "cell_type": "code",
   "execution_count": 30,
   "id": "c3e8fc9e",
   "metadata": {},
   "outputs": [],
   "source": [
    "def update_pheromones(pheromone, ants, evaporation_rate=0.5, Q=100):\n",
    "    num_cities = len(pheromone)\n",
    "    pheromone *= (1 - evaporation_rate)\n",
    "\n",
    "    for ant in ants:\n",
    "        for i in range(len(ant.tour) - 1):\n",
    "            from_city = ant.tour[i]\n",
    "            to_city = ant.tour[i + 1]\n",
    "            pheromone[from_city][to_city] += Q / ant.total_distance\n",
    "            pheromone[to_city][from_city] += Q / ant.total_distance \n",
    "            \n"
   ]
  },
  {
   "cell_type": "code",
   "execution_count": 31,
   "id": "ba8b8ffd",
   "metadata": {},
   "outputs": [],
   "source": [
    "def select_top_ants(ants, num_selected):\n",
    "    sorted_ants = sorted(ants, key=lambda a: a.total_distance)\n",
    "    return sorted_ants[:num_selected]"
   ]
  },
  {
   "cell_type": "code",
   "execution_count": 32,
   "id": "25acf634",
   "metadata": {},
   "outputs": [],
   "source": [
    "def order_crossover(parent1,parent2):\n",
    "    size = len(parent1)\n",
    "    start, end = sorted(random.sample(range(size), 2))\n",
    "\n",
    "    child = [-1] * size\n",
    "    child[start:end+1] = parent1[start:end+1]\n",
    "\n",
    "    ptr = (end + 1) % size\n",
    "    for city in parent2:\n",
    "        if city not in child:\n",
    "            child[ptr] = city\n",
    "            ptr = (ptr + 1) % size\n",
    "    return child"
   ]
  },
  {
   "cell_type": "code",
   "execution_count": 33,
   "id": "321504dd",
   "metadata": {},
   "outputs": [],
   "source": [
    "def mutate(tour, mutation_rate=0.1):\n",
    "    tour = tour[:]\n",
    "    if random.random() < mutation_rate:\n",
    "        i , j = random.sample(range(len(tour)), 2)\n",
    "        tour[i], tour[j] = tour[j], tour[i]\n",
    "    return tour"
   ]
  },
  {
   "cell_type": "code",
   "execution_count": 34,
   "id": "f8c94aeb",
   "metadata": {},
   "outputs": [],
   "source": [
    "def generate_children(top_ants, num_children, mutation_rate=0.1):\n",
    "    children = []\n",
    "\n",
    "    while len(children) < num_children:\n",
    "        parent1 = random.choice(top_ants).tour\n",
    "        parent2 = random.choice(top_ants).tour\n",
    "\n",
    "        if parent1 != parent2:\n",
    "            child_tour = order_crossover(parent1, parent2)\n",
    "            child_tour = mutate(child_tour, mutation_rate)\n",
    "            children.append(child_tour)\n",
    "\n",
    "    return children\n"
   ]
  },
  {
   "cell_type": "code",
   "execution_count": 35,
   "id": "58b9c8d4",
   "metadata": {},
   "outputs": [],
   "source": [
    "def replace_worst_ants(ants,children_tours, cities):\n",
    "    ants.sort(key=lambda a: a.total_distance, reverse=True)\n",
    "\n",
    "    for i in range(len(children_tours)):\n",
    "        new_ant = Ant(len(cities))\n",
    "        new_ant.tour = children_tours[i]\n",
    "\n",
    "        new_ant.total_distance = sum(cities[new_ant.tour[i]].distance(cities[new_ant.tour[i + 1]]) for i in range(len(new_ant.tour) - 1))\n",
    "        ants[-(i+1)] = new_ant"
   ]
  },
  {
   "cell_type": "code",
   "execution_count": 36,
   "id": "30b08715",
   "metadata": {},
   "outputs": [],
   "source": [
    "\n",
    "\n",
    "def plot_tour(cities, tour):\n",
    "    x = [cities[i].x for i in tour] + [cities[tour[0]].x]\n",
    "    y = [cities[i].y for i in tour] + [cities[tour[0]].y]\n",
    "    plt.plot(x, y, 'ro-')\n",
    "    plt.title('Best Tour Found by ACO')\n",
    "    plt.xlabel('X')\n",
    "    plt.ylabel('Y')\n",
    "    plt.show()\n",
    "\n"
   ]
  },
  {
   "cell_type": "code",
   "execution_count": 41,
   "id": "6e1083c2",
   "metadata": {},
   "outputs": [
    {
     "name": "stdout",
     "output_type": "stream",
     "text": [
      "Iteration 0/20 - Best Distance: 308.1118434260997\n",
      "Iteration 1/20 - Best Distance: 308.1118434260997\n",
      "Iteration 2/20 - Best Distance: 308.1118434260997\n",
      "Iteration 3/20 - Best Distance: 308.1118434260997\n",
      "Iteration 4/20 - Best Distance: 308.1118434260997\n",
      "Iteration 5/20 - Best Distance: 308.1118434260997\n",
      "Iteration 6/20 - Best Distance: 308.11184342609965\n",
      "Iteration 7/20 - Best Distance: 308.11184342609965\n",
      "Iteration 8/20 - Best Distance: 308.11184342609965\n",
      "Iteration 9/20 - Best Distance: 308.11184342609965\n",
      "Iteration 10/20 - Best Distance: 308.11184342609965\n",
      "Iteration 11/20 - Best Distance: 308.11184342609965\n",
      "Iteration 12/20 - Best Distance: 308.11184342609965\n",
      "Iteration 13/20 - Best Distance: 308.11184342609965\n",
      "Iteration 14/20 - Best Distance: 308.11184342609965\n",
      "Iteration 15/20 - Best Distance: 308.11184342609965\n",
      "Iteration 16/20 - Best Distance: 308.11184342609965\n",
      "Iteration 17/20 - Best Distance: 308.11184342609965\n",
      "Iteration 18/20 - Best Distance: 308.11184342609965\n",
      "Iteration 19/20 - Best Distance: 308.11184342609965\n",
      "Best Tour: [0, 5, 3, 4, 7, 8, 2, 9, 1, 6, 0]\n",
      "Best Distance: 308.11184342609965\n"
     ]
    },
    {
     "data": {
      "image/png": "[encoded data removed]",
      "text/plain": [
       "<Figure size 640x480 with 1 Axes>"
      ]
     },
     "metadata": {},
     "output_type": "display_data"
    }
   ],
   "source": [
    "if __name__ == \"__main__\":\n",
    "    num_cities = 10\n",
    "    cities = [City(random.randint(0, 100), random.randint(0, 100)) for _ in range(num_cities)]\n",
    "\n",
    "    initial_pheromone = 1.0\n",
    "    pheromone = initialize_pheromone(num_cities, initial_pheromone)\n",
    "\n",
    "    num_ants = 50\n",
    "    ants = [Ant(num_cities) for _ in range(num_ants)]\n",
    "\n",
    "    num_iterations = 20\n",
    "    ga_interval = 10  \n",
    "    best_tour = None\n",
    "    best_distance = float(\"inf\")\n",
    "\n",
    "    for iteration in range(num_iterations):\n",
    "        for ant in ants:\n",
    "            ant.clear()\n",
    "            ant.build_tour(pheromone, cities, alpha=1, beta=2)\n",
    "\n",
    "        update_pheromones(pheromone, ants, evaporation_rate=0.1, Q=100)\n",
    "\n",
    "        for ant in ants:\n",
    "            if ant.total_distance < best_distance:\n",
    "                best_distance = ant.total_distance\n",
    "                best_tour = ant.tour\n",
    "\n",
    "        if iteration % ga_interval == 0 and iteration != 0:\n",
    "            top_ants = select_top_ants(ants, num_selected=10)\n",
    "            children_tours = generate_children(top_ants, num_children=10, mutation_rate=0.1)\n",
    "            replace_worst_ants(ants, children_tours, cities)\n",
    "\n",
    "        print(f\"Iteration {iteration}/{num_iterations} - Best Distance: {best_distance}\")\n",
    "\n",
    "    print(\"Best Tour:\", [int(city) for city in best_tour])\n",
    "    print(\"Best Distance:\", best_distance)\n",
    "\n",
    "    plot_tour(cities, best_tour)\n"
   ]
  },
  {
   "cell_type": "code",
   "execution_count": null,
   "id": "d2df5d6b",
   "metadata": {},
   "outputs": [],
   "source": []
  }
 ],
 "metadata": {
  "kernelspec": {
   "display_name": "Python 3",
   "language": "python",
   "name": "python3"
  },
  "language_info": {
   "codemirror_mode": {
    "name": "ipython",
    "version": 3
   },
   "file_extension": ".py",
   "mimetype": "text/x-python",
   "name": "python",
   "nbconvert_exporter": "python",
   "pygments_lexer": "ipython3",
   "version": "3.13.2"
  }
 },
 "nbformat": 4,
 "nbformat_minor": 5
}
